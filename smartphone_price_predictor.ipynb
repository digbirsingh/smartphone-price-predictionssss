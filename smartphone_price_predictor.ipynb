{
  "nbformat": 4,
  "nbformat_minor": 0,
  "metadata": {
    "colab": {
      "provenance": []
    },
    "kernelspec": {
      "name": "python3",
      "display_name": "Python 3"
    },
    "language_info": {
      "name": "python"
    }
  },
  "cells": [
    {
      "cell_type": "markdown",
      "source": [
        "IMPORTING THE DEPENDENCIES"
      ],
      "metadata": {
        "id": "PJnZdlLDM2g4"
      }
    },
    {
      "cell_type": "code",
      "source": [
        "import pandas as pd\n",
        "from sklearn.preprocessing import LabelEncoder\n",
        "from sklearn.ensemble import RandomForestRegressor\n",
        "\n",
        "# 1 load the data\n",
        "data = pd.read_csv('smartphones.csv')\n",
        "\n",
        "# 2 encode features\n",
        "le_brand = LabelEncoder()\n",
        "le_model = LabelEncoder()\n",
        "le_colour = LabelEncoder()\n",
        "\n",
        "data['Brand'] = le_brand.fit_transform(data['Brand'])\n",
        "data['Model'] = le_model.fit_transform(data['Model'])\n",
        "data['Color'] = le_colour.fit_transform(data['Color'])\n",
        "\n",
        "# 3 split features and target\n",
        "X = data[['Brand', 'Model', 'RAM', 'Storage', 'Color']]\n",
        "y = data['Final Price']\n",
        "\n",
        "# 4 train the model\n",
        "model = RandomForestRegressor(n_estimators=100, random_state=42)\n",
        "model.fit(X, y)\n",
        "\n",
        "# 5 function to predict price for user input\n",
        "def predict_price():\n",
        "    print(\"\\n Enter smartphone details to predict price:\")\n",
        "    brand = input(\"Brand: \")\n",
        "    model_name = input(\"Model: \")\n",
        "    try:\n",
        "        ram = int(input(\"RAM (GB): \"))\n",
        "        storage = int(input(\"Storage (GB): \"))\n",
        "    except ValueError:\n",
        "        print(\"⚠ RAM and Storage must be numbers.\")\n",
        "        return\n",
        "    colour = input(\"Color: \")\n",
        "\n",
        "    # encode user input\n",
        "    try:\n",
        "        brand_encoded = le_brand.transform([brand])[0]\n",
        "        model_encoded = le_model.transform([model_name])[0]\n",
        "        colour_encoded = le_colour.transform([colour])[0]\n",
        "    except ValueError:\n",
        "        print(\"Brand, Model, or Color not recognized. Check spelling or add it to dataset.\")\n",
        "        return\n",
        "\n",
        "    # to do prediction\n",
        "    input_data = [[brand_encoded, model_encoded, ram, storage, colour_encoded]]\n",
        "    predicted_price = model.predict(input_data)[0]\n",
        "    print(f\"\\n Predicted Final Price: ${predicted_price:.2f}\")\n",
        "\n",
        "# run the prediction\n",
        "predict_price()\n"
      ],
      "metadata": {
        "id": "tAtxnyaeNBln",
        "colab": {
          "base_uri": "https://localhost:8080/"
        },
        "outputId": "245330d3-0d6a-4e60-8356-51f0e9a66a08"
      },
      "execution_count": 4,
      "outputs": [
        {
          "output_type": "stream",
          "name": "stdout",
          "text": [
            "\n",
            " Enter smartphone details to predict price:\n",
            "Brand: Samsung\n",
            "Model: Galaxy S20\n",
            "RAM (GB): 12\n",
            "Storage (GB): 128\n",
            "Color: White\n",
            "\n",
            " Predicted Final Price: $470.81\n"
          ]
        },
        {
          "output_type": "stream",
          "name": "stderr",
          "text": [
            "/usr/local/lib/python3.12/dist-packages/sklearn/utils/validation.py:2739: UserWarning: X does not have valid feature names, but RandomForestRegressor was fitted with feature names\n",
            "  warnings.warn(\n"
          ]
        }
      ]
    },
    {
      "cell_type": "code",
      "execution_count": null,
      "metadata": {
        "id": "kpCGZ0J2MFkN"
      },
      "outputs": [],
      "source": []
    }
  ]
}